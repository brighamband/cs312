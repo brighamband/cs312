{
  "nbformat": 4,
  "nbformat_minor": 0,
  "metadata": {
    "colab": {
      "name": "hw1-cs312.ipynb",
      "provenance": [],
      "collapsed_sections": []
    },
    "kernelspec": {
      "name": "python3",
      "display_name": "Python 3"
    },
    "language_info": {
      "name": "python"
    }
  },
  "cells": [
    {
      "cell_type": "markdown",
      "metadata": {
        "id": "ao8D86SzWW7Q"
      },
      "source": [
        "#Exponential"
      ]
    },
    {
      "cell_type": "code",
      "metadata": {
        "id": "GqoP6j8lRxdh"
      },
      "source": [
        "def fab(n):\n",
        "  if n == 0 or n == 1 or n == 2:\n",
        "    return 1\n",
        " \n",
        "  return fab(n-1) + fab(n-2) * fab(n-3)\n",
        "\n",
        "# fab(6)"
      ],
      "execution_count": 1,
      "outputs": []
    },
    {
      "cell_type": "markdown",
      "metadata": {
        "id": "UNASh8zFdszZ"
      },
      "source": [
        "Rough Big-O Complexity Estimate:   $3^n$\n",
        "\n",
        "Other than the base cases, each parent branches off into 3 children, so with every number added, 3 times more children are created than the previous iteration."
      ]
    },
    {
      "cell_type": "markdown",
      "metadata": {
        "id": "UdTGyO4dWbDy"
      },
      "source": [
        "#Linear"
      ]
    },
    {
      "cell_type": "code",
      "metadata": {
        "id": "irIV2y-aWcL7"
      },
      "source": [
        "def fab(n):\n",
        "  cache = list(range(n + 1))\n",
        "  cache[0] = 1\n",
        "  cache[1] = 1\n",
        "  cache[2] = 1\n",
        "\n",
        "  for i in range(3, n + 1):\n",
        "    cache[i] = cache[i-1] + cache[i-2] * cache[i-3]\n",
        "  return cache[n]\n",
        "\n",
        "# print(fab(3))\n",
        "# print(fab(4))\n",
        "# print(fab(5))\n",
        "# print(fab(6))"
      ],
      "execution_count": 2,
      "outputs": []
    },
    {
      "cell_type": "markdown",
      "metadata": {
        "id": "dSL61HPMd1Bl"
      },
      "source": [
        "Rough Big-O Complexity Estimate: $n$\n",
        "\n",
        "By using an array to cache the values, it only has to make those calculations once.  Therefore, since every calculation is only needed to be done once, there will simply be one calculation for every number in the tree, resulting in a Big-O of $n$."
      ]
    }
  ]
}