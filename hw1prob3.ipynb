{
  "nbformat": 4,
  "nbformat_minor": 0,
  "metadata": {
    "colab": {
      "name": "hw1-cs312.ipynb",
      "provenance": [],
      "collapsed_sections": []
    },
    "kernelspec": {
      "name": "python3",
      "display_name": "Python 3"
    },
    "language_info": {
      "name": "python"
    }
  },
  "cells": [
    {
      "cell_type": "markdown",
      "metadata": {
        "id": "ao8D86SzWW7Q"
      },
      "source": [
        "Exponential"
      ]
    },
    {
      "cell_type": "code",
      "metadata": {
        "colab": {
          "base_uri": "https://localhost:8080/"
        },
        "id": "GqoP6j8lRxdh",
        "outputId": "6b5fb4fa-fc1d-4957-bb78-046ab0c6e6ad"
      },
      "source": [
        "def fab(n):\n",
        "  if n == 0 or n == 1 or n == 2:\n",
        "    return 1\n",
        " \n",
        "  return fab(n-1) + fab(n-2) * fab(n-3)\n",
        "\n",
        "fab(6)"
      ],
      "execution_count": 15,
      "outputs": [
        {
          "output_type": "execute_result",
          "data": {
            "text/plain": [
              "11"
            ]
          },
          "metadata": {},
          "execution_count": 15
        }
      ]
    },
    {
      "cell_type": "markdown",
      "metadata": {
        "id": "UdTGyO4dWbDy"
      },
      "source": [
        "Linear"
      ]
    },
    {
      "cell_type": "code",
      "metadata": {
        "colab": {
          "base_uri": "https://localhost:8080/"
        },
        "id": "irIV2y-aWcL7",
        "outputId": "e43c5630-19f6-4af7-8820-86e640e59881"
      },
      "source": [
        "def fab(n):\n",
        "  cache = list(range(n + 1))\n",
        "  cache[0] = 1\n",
        "  cache[1] = 1\n",
        "  cache[2] = 1\n",
        "\n",
        "  for i in range(3, n + 1):\n",
        "    cache[i] = cache[i-1] + cache[i-2] * cache[i-3]\n",
        "  return cache[n]\n",
        "\n",
        "print(fab(3))\n",
        "print(fab(4))\n",
        "print(fab(5))\n",
        "print(fab(6))"
      ],
      "execution_count": 35,
      "outputs": [
        {
          "output_type": "stream",
          "name": "stdout",
          "text": [
            "2\n",
            "3\n",
            "5\n",
            "11\n"
          ]
        }
      ]
    }
  ]
}